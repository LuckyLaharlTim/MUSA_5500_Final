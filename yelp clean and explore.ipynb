{
 "cells": [
  {
   "cell_type": "markdown",
   "id": "b2545cc8-f8c9-4724-a927-721382eadfdd",
   "metadata": {},
   "source": [
    "# Yelp Amenity Data cleaning and exploratory analysis"
   ]
  },
  {
   "cell_type": "code",
   "execution_count": 2,
   "id": "acdc0ad1-ff46-4f6c-909b-3e7f0eaeb160",
   "metadata": {
    "tags": []
   },
   "outputs": [],
   "source": [
    "import geopandas as gpd\n",
    "import pandas as pd\n",
    "import matplotlib as plt"
   ]
  },
  {
   "cell_type": "code",
   "execution_count": 12,
   "id": "a7da38a3-2ee4-4e6a-a190-f1fbe603aae0",
   "metadata": {
    "tags": []
   },
   "outputs": [],
   "source": [
    "# phila bounds\n",
    "phl_bound = gpd.read_file(\"data/Yelp API/phl_bound.geojson\")\n",
    "phl_neigh = gpd.read_file(\"https://raw.githubusercontent.com/opendataphilly/open-geo-data/master/Neighborhoods_Philadelphia/Neighborhoods_Philadelphia.geojson\")"
   ]
  },
  {
   "cell_type": "markdown",
   "id": "00602ef6-786a-48f2-8bc6-6c5e88c45956",
   "metadata": {},
   "source": [
    "## Read in amenity files"
   ]
  },
  {
   "cell_type": "code",
   "execution_count": 10,
   "id": "8f2f0d2f-faef-4448-8c6c-a3ae9fcda6c4",
   "metadata": {
    "tags": []
   },
   "outputs": [],
   "source": [
    "# amenities\n",
    "restaurants = gpd.read_file(\"data/Yelp API/restaurants.geojson\")\n",
    "retail = gpd.read_file(\"data/Yelp API/retail.geojson\")\n",
    "shopping = gpd.read_file(\"data/Yelp API/shopping.geojson\")\n",
    "grocery = gpd.read_file(\"data/Yelp API/grocery.geojson\")\n",
    "education = gpd.read_file(\"data/Yelp API/education.geojson\")"
   ]
  },
  {
   "cell_type": "code",
   "execution_count": 11,
   "id": "5ad02b00-227a-4e59-bf77-a956eab86a3f",
   "metadata": {
    "tags": []
   },
   "outputs": [
    {
     "data": {
      "text/html": [
       "<div>\n",
       "<style scoped>\n",
       "    .dataframe tbody tr th:only-of-type {\n",
       "        vertical-align: middle;\n",
       "    }\n",
       "\n",
       "    .dataframe tbody tr th {\n",
       "        vertical-align: top;\n",
       "    }\n",
       "\n",
       "    .dataframe thead th {\n",
       "        text-align: right;\n",
       "    }\n",
       "</style>\n",
       "<table border=\"1\" class=\"dataframe\">\n",
       "  <thead>\n",
       "    <tr style=\"text-align: right;\">\n",
       "      <th></th>\n",
       "      <th>name</th>\n",
       "      <th>rating</th>\n",
       "      <th>address</th>\n",
       "      <th>alias</th>\n",
       "      <th>title</th>\n",
       "      <th>geometry</th>\n",
       "    </tr>\n",
       "  </thead>\n",
       "  <tbody>\n",
       "    <tr>\n",
       "      <th>610</th>\n",
       "      <td>7-Eleven</td>\n",
       "      <td>4.0</td>\n",
       "      <td>501 Church Ln</td>\n",
       "      <td>convenience, coffee</td>\n",
       "      <td>Convenience Stores, Coffee &amp; Tea</td>\n",
       "      <td>POINT (2668151.048 230141.491)</td>\n",
       "    </tr>\n",
       "    <tr>\n",
       "      <th>611</th>\n",
       "      <td>ShopRite of Delran</td>\n",
       "      <td>2.0</td>\n",
       "      <td>1310 Fairview Blvd</td>\n",
       "      <td>grocery, bakeries, delis</td>\n",
       "      <td>Grocery, Bakeries, Delis</td>\n",
       "      <td>POINT (2753602.763 262333.957)</td>\n",
       "    </tr>\n",
       "    <tr>\n",
       "      <th>612</th>\n",
       "      <td>Tano's Deli</td>\n",
       "      <td>4.5</td>\n",
       "      <td>7401 Bingham St</td>\n",
       "      <td>delis</td>\n",
       "      <td>Delis</td>\n",
       "      <td>POINT (2715636.935 276802.533)</td>\n",
       "    </tr>\n",
       "    <tr>\n",
       "      <th>613</th>\n",
       "      <td>Weis Markets</td>\n",
       "      <td>1.0</td>\n",
       "      <td>200 Ridge Pike</td>\n",
       "      <td>gourmet, grocery</td>\n",
       "      <td>Specialty Food, Grocery</td>\n",
       "      <td>POINT (2657161.235 287217.286)</td>\n",
       "    </tr>\n",
       "    <tr>\n",
       "      <th>614</th>\n",
       "      <td>Dollar General</td>\n",
       "      <td>3.0</td>\n",
       "      <td>1040 Delsea Dr</td>\n",
       "      <td>grocery</td>\n",
       "      <td>Grocery</td>\n",
       "      <td>POINT (2705204.399 200963.526)</td>\n",
       "    </tr>\n",
       "  </tbody>\n",
       "</table>\n",
       "</div>"
      ],
      "text/plain": [
       "                   name  rating             address                     alias  \\\n",
       "610            7-Eleven     4.0       501 Church Ln       convenience, coffee   \n",
       "611  ShopRite of Delran     2.0  1310 Fairview Blvd  grocery, bakeries, delis   \n",
       "612         Tano's Deli     4.5     7401 Bingham St                     delis   \n",
       "613        Weis Markets     1.0      200 Ridge Pike          gourmet, grocery   \n",
       "614      Dollar General     3.0      1040 Delsea Dr                   grocery   \n",
       "\n",
       "                                title                        geometry  \n",
       "610  Convenience Stores, Coffee & Tea  POINT (2668151.048 230141.491)  \n",
       "611          Grocery, Bakeries, Delis  POINT (2753602.763 262333.957)  \n",
       "612                             Delis  POINT (2715636.935 276802.533)  \n",
       "613           Specialty Food, Grocery  POINT (2657161.235 287217.286)  \n",
       "614                           Grocery  POINT (2705204.399 200963.526)  "
      ]
     },
     "execution_count": 11,
     "metadata": {},
     "output_type": "execute_result"
    }
   ],
   "source": [
    "grocery.tail()"
   ]
  },
  {
   "cell_type": "markdown",
   "id": "393466c3-6af5-4434-ad39-8ec6630a8168",
   "metadata": {},
   "source": [
    "Clip to Philadelphia boundaries"
   ]
  }
 ],
 "metadata": {
  "kernelspec": {
   "display_name": "Python 3 (ipykernel)",
   "language": "python",
   "name": "python3"
  },
  "language_info": {
   "codemirror_mode": {
    "name": "ipython",
    "version": 3
   },
   "file_extension": ".py",
   "mimetype": "text/x-python",
   "name": "python",
   "nbconvert_exporter": "python",
   "pygments_lexer": "ipython3",
   "version": "3.10.12"
  }
 },
 "nbformat": 4,
 "nbformat_minor": 5
}
