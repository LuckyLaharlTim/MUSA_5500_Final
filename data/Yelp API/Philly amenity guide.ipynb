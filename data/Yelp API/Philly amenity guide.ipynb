{
 "cells": [
  {
   "cell_type": "markdown",
   "id": "513ccfbd-1952-466e-b6a0-43d850b6e9dc",
   "metadata": {},
   "source": [
    "# Insider guide to Philly amenities\n",
    "### Anna Duan, Timothy Oliver, Trevor Kapuvari | December 18, 2023"
   ]
  },
  {
   "cell_type": "code",
   "execution_count": 2,
   "id": "9025fa81-795b-4ada-ab63-5a2ab0de5926",
   "metadata": {
    "tags": []
   },
   "outputs": [],
   "source": [
    "import geopandas as gpd\n",
    "import pandas as pd\n",
    "import matplotlib.pyplot as plt\n",
    "import numpy as np\n",
    "import altair as alt\n",
    "from sklearn.cluster import KMeans\n",
    "import re\n",
    "from wordcloud import WordCloud\n",
    "\n",
    "\n",
    "# Show all columns in dataframes\n",
    "pd.set_option('display.max_rows', None)\n",
    "pd.set_option('display.max_columns', None)\n",
    "pd.set_option('display.max_colwidth', None)\n",
    "\n",
    "np.seterr(invalid=\"ignore\");"
   ]
  },
  {
   "cell_type": "code",
   "execution_count": null,
   "id": "99fe2666-e3f8-4bcc-89d1-521a8de99c06",
   "metadata": {},
   "outputs": [],
   "source": []
  }
 ],
 "metadata": {
  "kernelspec": {
   "display_name": "Python 3 (ipykernel)",
   "language": "python",
   "name": "python3"
  },
  "language_info": {
   "codemirror_mode": {
    "name": "ipython",
    "version": 3
   },
   "file_extension": ".py",
   "mimetype": "text/x-python",
   "name": "python",
   "nbconvert_exporter": "python",
   "pygments_lexer": "ipython3",
   "version": "3.10.12"
  }
 },
 "nbformat": 4,
 "nbformat_minor": 5
}
