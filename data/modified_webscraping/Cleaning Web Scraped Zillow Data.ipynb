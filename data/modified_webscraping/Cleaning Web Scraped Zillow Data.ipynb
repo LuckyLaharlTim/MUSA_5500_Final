{
 "cells": [
  {
   "cell_type": "markdown",
   "metadata": {},
   "source": [
    "### Import Libraries \n",
    "\n",
    "\n",
    " - The os module allows us to interact with operating systems including changing working directory\n",
    " - The pandas module allows us to read, clean and preprocess the output CSV files that were web scraped\n",
    " - The glob module allows us to search through file paths and search for files that meet a specific pattern in this example we look for .csv patterns\n",
    " "
   ]
  },
  {
   "cell_type": "code",
   "execution_count": 68,
   "metadata": {},
   "outputs": [],
   "source": [
    "\n",
    "import glob as gb \n",
    "import pandas as pd \n",
    "import os\n"
   ]
  },
  {
   "cell_type": "markdown",
   "metadata": {},
   "source": [
    "### Set Path\n",
    " - Set your path to where CSV outputs of your zillow webscraping was exported to us the os chdir method"
   ]
  },
  {
   "cell_type": "code",
   "execution_count": 69,
   "metadata": {},
   "outputs": [],
   "source": [
    "path = \"../webscraping_outputs-Z\"\n",
    "os.chdir(path)"
   ]
  },
  {
   "cell_type": "markdown",
   "metadata": {},
   "source": [
    "### Get a list of all CSV outputs \n",
    "- Use the glob method get generate a list of all your output csv in your directory\n"
   ]
  },
  {
   "cell_type": "code",
   "execution_count": 70,
   "metadata": {
    "scrolled": true
   },
   "outputs": [
    {
     "data": {
      "text/plain": [
       "['../webscraping_outputs-Z\\\\ZillowSelenium_2023_Dec_21_13-45-20.csv']"
      ]
     },
     "execution_count": 70,
     "metadata": {},
     "output_type": "execute_result"
    }
   ],
   "source": [
    "All = gb.glob(path + \"/*.csv\")\n",
    "All"
   ]
  },
  {
   "cell_type": "code",
   "execution_count": 71,
   "metadata": {},
   "outputs": [
    {
     "data": {
      "text/plain": [
       "1"
      ]
     },
     "execution_count": 71,
     "metadata": {},
     "output_type": "execute_result"
    }
   ],
   "source": [
    "#Verify totoal number of files \n",
    "\n",
    "len(All)"
   ]
  },
  {
   "cell_type": "markdown",
   "metadata": {},
   "source": [
    "### Concatenate CSV\n",
    "- combine all files as a single CSV by concatenating them. To do this:\n",
    "    - loop through the list of CSV in your path and use the pandas.read_csv method to read them. It will create a generator\n",
    "    - Afterward use the pd.concat method to concatenate all your csv files "
   ]
  },
  {
   "cell_type": "code",
   "execution_count": 72,
   "metadata": {},
   "outputs": [],
   "source": [
    "if len(All)>0:\n",
    "    Zillow = (pd.read_csv(file) for file in All)  \n",
    "    FinalZillow   = pd.concat(Zillow, ignore_index=True)\n",
    "else:\n",
    "    import warnings\n",
    "    warnings.warn(f\"There are no data in {path}, try using 'Webscraping Zillow Data.ipynb'.\",UserWarning,stacklevel=2)"
   ]
  },
  {
   "cell_type": "code",
   "execution_count": 73,
   "metadata": {},
   "outputs": [
    {
     "data": {
      "text/plain": [
       "(96, 5)"
      ]
     },
     "execution_count": 73,
     "metadata": {},
     "output_type": "execute_result"
    }
   ],
   "source": [
    "FinalZillow.shape"
   ]
  },
  {
   "cell_type": "markdown",
   "metadata": {},
   "source": [
    "### Check for duplicates\n",
    "- Because we are web scraping daily, there multiple duplicates in our data, we check for those using the duplicated method and the sum method\n",
    "- We can identify the unique listings by subracting the duplicated listings from all lisitings "
   ]
  },
  {
   "cell_type": "code",
   "execution_count": 74,
   "metadata": {},
   "outputs": [
    {
     "data": {
      "text/plain": [
       "33"
      ]
     },
     "execution_count": 74,
     "metadata": {},
     "output_type": "execute_result"
    }
   ],
   "source": [
    "# Checking for duplicated listings\n",
    "FinalZillow.duplicated().sum()"
   ]
  },
  {
   "cell_type": "code",
   "execution_count": 75,
   "metadata": {},
   "outputs": [
    {
     "data": {
      "text/plain": [
       "63"
      ]
     },
     "execution_count": 75,
     "metadata": {},
     "output_type": "execute_result"
    }
   ],
   "source": [
    "# Checking for unique listings by finding the difference between original listings and duplicated listings\n",
    "\n",
    "int(FinalZillow.shape[0]) - FinalZillow.duplicated().sum() "
   ]
  },
  {
   "cell_type": "markdown",
   "metadata": {},
   "source": [
    "### Generate Unique Listings\n",
    "- Create a variable that stores the unique listings "
   ]
  },
  {
   "cell_type": "code",
   "execution_count": 76,
   "metadata": {},
   "outputs": [],
   "source": [
    "FinalUnique = FinalZillow.drop_duplicates()\n"
   ]
  },
  {
   "cell_type": "code",
   "execution_count": 77,
   "metadata": {},
   "outputs": [
    {
     "data": {
      "text/plain": [
       "63"
      ]
     },
     "execution_count": 77,
     "metadata": {},
     "output_type": "execute_result"
    }
   ],
   "source": [
    "int(FinalUnique.shape[0]) - FinalUnique.duplicated().sum() "
   ]
  },
  {
   "cell_type": "markdown",
   "metadata": {},
   "source": [
    "### Change directory for  Output file \n",
    " -  Change the output directory for your final CSV\n",
    " -  Since the cleaning including concatenating will be done multiple time for any addtional webscraping, you would have to export the final clean file to a different folder"
   ]
  },
  {
   "cell_type": "code",
   "execution_count": 78,
   "metadata": {},
   "outputs": [
    {
     "name": "stdout",
     "output_type": "stream",
     "text": [
      "../webscraping_outputs-Z\n"
     ]
    }
   ],
   "source": [
    "print(path)"
   ]
  },
  {
   "cell_type": "code",
   "execution_count": 79,
   "metadata": {},
   "outputs": [],
   "source": [
    "outPath = path+\"/clean\"\n",
    "os.chdir(outPath)"
   ]
  },
  {
   "cell_type": "markdown",
   "metadata": {},
   "source": [
    "### Export the final output as a CSV file"
   ]
  },
  {
   "cell_type": "code",
   "execution_count": 81,
   "metadata": {},
   "outputs": [
    {
     "name": "stdout",
     "output_type": "stream",
     "text": [
      "done\n"
     ]
    }
   ],
   "source": [
    "FinalUnique.to_csv(\"ZillowUnique.csv\", index=False,)\n",
    "(print(\"done\"))\n",
    "os.chdir(\"../\"+path)"
   ]
  },
  {
   "cell_type": "code",
   "execution_count": 16,
   "metadata": {},
   "outputs": [
    {
     "data": {
      "text/plain": [
       "Index(['title', 'description', 'url', 'address', 'neighborhood'], dtype='object')"
      ]
     },
     "execution_count": 16,
     "metadata": {},
     "output_type": "execute_result"
    }
   ],
   "source": [
    "FinalUnique.columns"
   ]
  }
 ],
 "metadata": {
  "kernelspec": {
   "display_name": "Python 3 (ipykernel)",
   "language": "python",
   "name": "python3"
  },
  "language_info": {
   "codemirror_mode": {
    "name": "ipython",
    "version": 3
   },
   "file_extension": ".py",
   "mimetype": "text/x-python",
   "name": "python",
   "nbconvert_exporter": "python",
   "pygments_lexer": "ipython3",
   "version": "3.7.11"
  }
 },
 "nbformat": 4,
 "nbformat_minor": 4
}
