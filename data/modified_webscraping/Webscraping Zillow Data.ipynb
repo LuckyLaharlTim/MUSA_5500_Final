{
 "cells": [
  {
   "cell_type": "markdown",
   "metadata": {},
   "source": [
    "### Import Libraries \n",
    "\n",
    " - Request library allows you to send HTTP request in python to a specific URL. In our case we send an HTTP request to Zillow\n",
    " - Time module allows to handle time related task including formatting dates, waiting and representing time\n",
    " - The random module allows you to generate random \n",
    " - The bs4 module allows you to pull data from HTML document after you get a response from HTTP request\n",
    " - The os modules allows ou to interact with operating systems including changing working directory\n",
    " - The selenium module allows you to automate interaction with a web browser including sending URL request and extracting HTML\n",
    "   document response"
   ]
  },
  {
   "cell_type": "code",
   "execution_count": 1,
   "metadata": {},
   "outputs": [],
   "source": [
    "import requests\n",
    "import time\n",
    "from bs4 import BeautifulSoup\n",
    "from random import sample \n",
    "import pandas as pd \n",
    "import os\n",
    "from selenium import webdriver\n",
    "from selenium.webdriver.chrome.options import Options\n",
    "import json\n",
    "import csv\n",
    "from datetime import datetime\n",
    "import re\n",
    "from selenium_stealth import stealth\n"
   ]
  },
  {
   "cell_type": "markdown",
   "metadata": {},
   "source": [
    "### Set Path\n",
    " - Identify your destination folder\n",
    " - Use os change directory to set your destination directory as the default. That is where all outputs will be exported to"
   ]
  },
  {
   "cell_type": "code",
   "execution_count": 2,
   "metadata": {},
   "outputs": [],
   "source": [
    "path = \"../webscraping_outputs-Z\"\n",
    "os.chdir(path)"
   ]
  },
  {
   "cell_type": "markdown",
   "metadata": {},
   "source": [
    "### Create a file name\n",
    " - Create an outfile file name, I called mine ZillowSelium and formatted it a date time stamp\n",
    " - Note: If you are scraping multiple times in a day, then you need to format the time stamp with hours that way you don't overwrite already exported data"
   ]
  },
  {
   "cell_type": "code",
   "execution_count": 3,
   "metadata": {},
   "outputs": [
    {
     "data": {
      "text/plain": [
       "'ZillowSelenium_2023_Dec_09_21-04-27.csv'"
      ]
     },
     "execution_count": 3,
     "metadata": {},
     "output_type": "execute_result"
    }
   ],
   "source": [
    "finalfile = \"ZillowSelenium\" + \"_\" + \"{:%Y_%h_%d_%H-%M-%S}\".format(datetime.now()) +\".csv\"\n",
    "finalfile"
   ]
  },
  {
   "cell_type": "markdown",
   "metadata": {},
   "source": [
    "### Main Webscraping \n",
    "\n",
    "- Output results\n",
    "- Page numbers\n",
    "- URL \n",
    "- Selenium Setup\n"
   ]
  },
  {
   "cell_type": "code",
   "execution_count": 138,
   "metadata": {},
   "outputs": [
    {
     "name": "stdout",
     "output_type": "stream",
     "text": [
      "This is page: 1\n",
      "Urls:\n",
      "\n",
      "\t\thttps://www.zillow.com/philadelphia-pa/rentals/1_p/\n",
      "\n",
      "\t\thttps://www.zillow.com/philadelphia-pa/for_sale/1_p/\n",
      "\n",
      "This is page: 2\n",
      "Urls:\n",
      "\n",
      "\t\thttps://www.zillow.com/philadelphia-pa/for_sale/2_p/\n",
      "\n",
      "\t\thttps://www.zillow.com/philadelphia-pa/for_sale/2_p/\n",
      "\n",
      "This is page: 3\n",
      "Urls:\n",
      "\n",
      "\t\thttps://www.zillow.com/philadelphia-pa/for_sale/3_p/\n",
      "\n",
      "\t\thttps://www.zillow.com/philadelphia-pa/for_sale/3_p/\n",
      "\n",
      "This is page: 4\n",
      "Urls:\n",
      "\n",
      "\t\thttps://www.zillow.com/philadelphia-pa/for_sale/4_p/\n",
      "\n",
      "\t\thttps://www.zillow.com/philadelphia-pa/for_sale/4_p/\n",
      "\n",
      "This is page: 5\n",
      "Urls:\n",
      "\n",
      "\t\thttps://www.zillow.com/philadelphia-pa/for_sale/5_p/\n",
      "\n",
      "\t\thttps://www.zillow.com/philadelphia-pa/for_sale/5_p/\n",
      "\n",
      "This is page: 6\n",
      "Urls:\n",
      "\n",
      "\t\thttps://www.zillow.com/philadelphia-pa/for_sale/6_p/\n",
      "\n",
      "\t\thttps://www.zillow.com/philadelphia-pa/for_sale/6_p/\n",
      "\n",
      "This is page: 7\n",
      "Urls:\n",
      "\n",
      "\t\thttps://www.zillow.com/philadelphia-pa/for_sale/7_p/\n",
      "\n",
      "\t\thttps://www.zillow.com/philadelphia-pa/for_sale/7_p/\n",
      "\n",
      "This is page: 8\n",
      "Urls:\n",
      "\n",
      "\t\thttps://www.zillow.com/philadelphia-pa/for_sale/8_p/\n",
      "\n",
      "\t\thttps://www.zillow.com/philadelphia-pa/for_sale/8_p/\n",
      "\n",
      "This is page: 9\n",
      "Urls:\n",
      "\n",
      "\t\thttps://www.zillow.com/philadelphia-pa/for_sale/9_p/\n",
      "\n",
      "\t\thttps://www.zillow.com/philadelphia-pa/for_sale/9_p/\n",
      "\n",
      "This is page: 10\n",
      "Urls:\n",
      "\n",
      "\t\thttps://www.zillow.com/philadelphia-pa/for_sale/10_p/\n",
      "\n",
      "\t\thttps://www.zillow.com/philadelphia-pa/for_sale/10_p/\n",
      "\n",
      "This is page: 11\n",
      "Urls:\n",
      "\n",
      "\t\thttps://www.zillow.com/philadelphia-pa/for_sale/11_p/\n",
      "\n",
      "\t\thttps://www.zillow.com/philadelphia-pa/for_sale/11_p/\n",
      "\n",
      "This is page: 12\n",
      "Urls:\n",
      "\n",
      "\t\thttps://www.zillow.com/philadelphia-pa/for_sale/12_p/\n",
      "\n",
      "\t\thttps://www.zillow.com/philadelphia-pa/for_sale/12_p/\n",
      "\n",
      "This is page: 13\n",
      "Urls:\n",
      "\n",
      "\t\thttps://www.zillow.com/philadelphia-pa/for_sale/13_p/\n",
      "\n",
      "\t\thttps://www.zillow.com/philadelphia-pa/for_sale/13_p/\n",
      "\n",
      "This is page: 14\n",
      "Urls:\n",
      "\n",
      "\t\thttps://www.zillow.com/philadelphia-pa/for_sale/14_p/\n",
      "\n",
      "\t\thttps://www.zillow.com/philadelphia-pa/for_sale/14_p/\n",
      "\n",
      "This is page: 15\n",
      "Urls:\n",
      "\n",
      "\t\thttps://www.zillow.com/philadelphia-pa/for_sale/15_p/\n",
      "\n",
      "\t\thttps://www.zillow.com/philadelphia-pa/for_sale/15_p/\n",
      "\n",
      "This is page: 16\n",
      "Urls:\n",
      "\n",
      "\t\thttps://www.zillow.com/philadelphia-pa/for_sale/16_p/\n",
      "\n",
      "\t\thttps://www.zillow.com/philadelphia-pa/for_sale/16_p/\n",
      "\n",
      "This is page: 17\n",
      "Urls:\n",
      "\n",
      "\t\thttps://www.zillow.com/philadelphia-pa/for_sale/17_p/\n",
      "\n",
      "\t\thttps://www.zillow.com/philadelphia-pa/for_sale/17_p/\n",
      "\n",
      "This is page: 18\n",
      "Urls:\n",
      "\n",
      "\t\thttps://www.zillow.com/philadelphia-pa/for_sale/18_p/\n",
      "\n",
      "\t\thttps://www.zillow.com/philadelphia-pa/for_sale/18_p/\n",
      "\n",
      "This is page: 19\n",
      "Urls:\n",
      "\n",
      "\t\thttps://www.zillow.com/philadelphia-pa/for_sale/19_p/\n",
      "\n",
      "\t\thttps://www.zillow.com/philadelphia-pa/for_sale/19_p/\n",
      "\n",
      "This is page: 20\n",
      "Urls:\n",
      "\n",
      "\t\thttps://www.zillow.com/philadelphia-pa/for_sale/20_p/\n",
      "\n",
      "\t\thttps://www.zillow.com/philadelphia-pa/for_sale/20_p/\n",
      "\n"
     ]
    }
   ],
   "source": [
    "#Create a list that will hold the results\n",
    "\n",
    "results = []\n",
    "titleSelector = \"h1.Text-c11n-8-84-3__sc-aiai24-0\"\n",
    "descSelector = \"div.building-description\"\n",
    "linkSelector = \"div.StyledPropertyCardDataWrapper-c11n-8-84-3__sc-1omp4c3-0\"\n",
    "url =\"https://www.zillow.com/philadelphia-pa/rentals/\"\n",
    "\n",
    "url2 = \"https://www.zillow.com/philadelphia-pa/for_sale/\"\n",
    "\n",
    "# Inspect the zillow website and figure out the number pages for rental ads use\n",
    "# In the charlotte example, there are a total of 20 pages so I set the range at 21\n",
    "\n",
    "for page in range(1,21,1):\n",
    "    \n",
    "    print(\"This is page: \" + str(page))\n",
    "    \n",
    "    #Identify the Zillow URL of your City, it should follow this format:\n",
    "    # 1. Default Zillow url : https://www.zillow.com/\n",
    "    # 2. Name of your City: eg. charlotte-nc, atlanta-ga\n",
    "    # 3. Pass the page number \n",
    "    # 4. Add the \"_p\" that is a default thing with the Zillow website \n",
    "    # 5. In a sample URL on page 15 for example will be like: https://www.zillow.com/charlotte-nc/rentals/15_p/\n",
    "\n",
    "    page = str(page) + '_p/'\n",
    "    \n",
    "    # Here we are going to utilize the selenium. To automate the interaction behavior of a web browser you would\n",
    "    # need a web driver. Each browser has a webdriver, in my case I am using google chrome so I download the web driver\n",
    "    # from this website \"https://chromedriver.storage.googleapis.com/index.html?path=98.0.4758.80/\" \n",
    "    \n",
    "    # After downloading and extracting the web drive(chromdriver.exe) you use the webdrive.Chrome() method to initiate\n",
    "    # the chrome browser and pass the path where the driver is saved.\n",
    "    \n",
    "    driver = webdriver.Chrome()\n",
    "    textDriver = webdriver.Chrome()\n",
    "    # CraiglistBrowser.maximize_window()\n",
    "\n",
    "    # After the browser has been launched use the get() to pass the url \n",
    "    print(f\"Urls:\\n\")\n",
    "    page_links = []\n",
    "    for url in [url,url2]: # getListingType():\n",
    "        print(f\"\\t\\t{url+page}\\n\")\n",
    "        browser = driver.get(url+page)\n",
    "        html = driver.execute_script(\"return document.documentElement.outerHTML\")\n",
    "        soup = BeautifulSoup(html, 'html.parser')\n",
    "\n",
    "        for item in soup.select(linkSelector):\n",
    "            l = item.select(\"a\")[0].attrs[\"href\"]\n",
    "            if not(l.startswith(\"https://\")):\n",
    "                l = \"https://www.zillow.com\"+l\n",
    "            page_links.append(l)\n",
    "\n",
    "    for link in page_links:\n",
    "        ovPage = textDriver.get(link)\n",
    "        textSoup = BeautifulSoup(textDriver.page_source,\"html.parser\")\n",
    "\n",
    "        if len(textSoup.select(\"div.px-captcha-container\")) > 0:\n",
    "            time.sleep(0.3)\n",
    "            continue\n",
    "        else:\n",
    "        \n",
    "            title = textSoup.select(titleSelector)[0].text\n",
    "            text = textSoup.select(descSelector)[0].text\n",
    "\n",
    "            results.append({\n",
    "                \"title\": title,\n",
    "                \"description\": text,\n",
    "                \"url\": link\n",
    "            })\n",
    "            print(f\"title: {title}\\nlink{link}\")\n",
    "\n",
    "        time.sleep(0.3)\n",
    "        print(textDriver.getWebHandle())\n",
    "\n",
    "    textDriver.close()\n",
    "\n",
    "    time.sleep(0.5)\n",
    "\n",
    "Zillowdata =  pd.DataFrame(results)\n",
    "Zillowdata.to_csv(finalfile, index = False)\n"
   ]
  },
  {
   "cell_type": "code",
   "execution_count": 4,
   "metadata": {},
   "outputs": [
    {
     "data": {
      "text/plain": [
       "['https://www.zillow.com/homedetails/11102-Hendrix-St-Philadelphia-PA-19116/10531637_zpid/',\n",
       " 'https://www.zillow.com/homedetails/706-Latona-St-UNIT-I-Philadelphia-PA-19147/2059089682_zpid/',\n",
       " 'https://www.zillow.com/homedetails/6386-Sherwood-Rd-Philadelphia-PA-19151/10350074_zpid/',\n",
       " 'https://www.zillow.com/homedetails/1419-S-51st-St-Philadelphia-PA-19143/10309619_zpid/',\n",
       " 'https://www.zillow.com/homedetails/6123-Wayne-Ave-FLOOR-2-Philadelphia-PA-19144/2054310168_zpid/',\n",
       " 'https://www.zillow.com/homedetails/3022-N-American-St-Philadelphia-PA-19133/118349697_zpid/',\n",
       " 'https://www.zillow.com/homedetails/6424-City-Ave-Philadelphia-PA-19151/2054068561_zpid/',\n",
       " 'https://www.zillow.com/homedetails/6506-N-Fairhill-St-Philadelphia-PA-19126/10545698_zpid/',\n",
       " 'https://www.zillow.com/homedetails/118-S-21st-St-APT-1022-Philadelphia-PA-19103/2057852846_zpid/',\n",
       " 'https://www.zillow.com/homedetails/1129-W-Duncannon-Ave-Philadelphia-PA-19141/10467823_zpid/',\n",
       " 'https://www.zillow.com/homedetails/728-Charette-Rd-Philadelphia-PA-19115/10565703_zpid/']"
      ]
     },
     "execution_count": 4,
     "metadata": {},
     "output_type": "execute_result"
    }
   ],
   "source": [
    "driver = webdriver.Chrome()\n",
    "\n",
    "url =\"https://www.zillow.com/philadelphia-pa/rentals/\"\n",
    "url2 = \"https://www.zillow.com/philadelphia-pa/for_sale/\"\n",
    "page = str(1) + '_p/'\n",
    "titleSelector = \"h1.Text-c11n-8-84-3__sc-aiai24-0\"\n",
    "descSelector = \"div.building-description\"\n",
    "linkSelector = \"div.StyledPropertyCardDataWrapper-c11n-8-84-3__sc-1omp4c3-0\"\n",
    "saleSelector = \"div.Text-c11n-8-84-3__sc-aiai24-0\"\n",
    "page_links = []\n",
    "\n",
    "driver.get(url2+page)\n",
    "html = driver.execute_script(\"return document.documentElement.outerHTML\")\n",
    "soup = BeautifulSoup(html, 'html.parser')\n",
    "\n",
    "for item in soup.select(linkSelector):\n",
    "    l = item.select(\"a\")[0].attrs[\"href\"]\n",
    "    if not(l.startswith(\"https://\")):\n",
    "        l = \"https://www.zillow.com\"+l\n",
    "    page_links.append(l)\n",
    "\n",
    "results = []\n",
    "page_links"
   ]
  },
  {
   "cell_type": "code",
   "execution_count": 7,
   "metadata": {},
   "outputs": [],
   "source": [
    "driver = webdriver.Chrome()"
   ]
  },
  {
   "cell_type": "code",
   "execution_count": 40,
   "metadata": {},
   "outputs": [],
   "source": [
    "link=page_links[1]\n",
    "ovPage = driver.get(link)\n",
    "textSoup = BeautifulSoup(driver.page_source,\"html.parser\")"
   ]
  },
  {
   "cell_type": "code",
   "execution_count": 37,
   "metadata": {},
   "outputs": [
    {
     "data": {
      "text/plain": [
       "'The data relating to real estate for sale on this website appears in part through the BRIGHT Internet Data Exchange program, a voluntary cooperative exchange of property listing data between licensed real estate brokerage firms, and is provided by BRIGHT through a licensing agreement.\\nListing information is from various brokers who participate in the Bright MLS IDX program and not all listings may be visible on the site. \\nThe property information being provided on or through the website is for the personal, non-commercial use of consumers and such information may not be used for any purpose other than to identify prospective properties consumers may be interested in purchasing.\\nSome properties which appear for sale on the website may no longer be available because they are for instance, under contract, sold or are no longer being offered for sale. \\nProperty information displayed is deemed reliable but is not guaranteed. \\nCopyright 2023 Bright MLS, Inc. Click here for more information\\nThe listing broker’s offer of compensation is made only to participants of the MLS where the listing is filed.\\n'"
      ]
     },
     "execution_count": 37,
     "metadata": {},
     "output_type": "execute_result"
    }
   ],
   "source": [
    "sale2Selector = \"p.Text-c11n-8-84-3__sc-aiai24-0\"\n",
    "textSoup.select(saleSelector)[0].text"
   ]
  },
  {
   "cell_type": "code",
   "execution_count": 43,
   "metadata": {},
   "outputs": [],
   "source": [
    "results = results[:-1]"
   ]
  },
  {
   "cell_type": "code",
   "execution_count": 44,
   "metadata": {},
   "outputs": [
    {
     "name": "stdout",
     "output_type": "stream",
     "text": [
      "title: 6386 Sherwood Rd, Philadelphia, PA 19151\n",
      "link: https://www.zillow.com/homedetails/6386-Sherwood-Rd-Philadelphia-PA-19151/10350074_zpid/\n",
      "\n",
      "\tZillow last checked:  3 hours ago\n",
      "\n",
      "\n",
      "title: 1419 S 51st St, Philadelphia, PA 19143\n",
      "link: https://www.zillow.com/homedetails/1419-S-51st-St-Philadelphia-PA-19143/10309619_zpid/\n",
      "\n",
      "\tZillow last checked:  3 hours ago\n",
      "\n",
      "\n",
      "title: 6123 Wayne Ave FLOOR 2, Philadelphia, PA 19144\n",
      "link: https://www.zillow.com/homedetails/6123-Wayne-Ave-FLOOR-2-Philadelphia-PA-19144/2054310168_zpid/\n",
      "\n",
      "\tLikely to sell faster than 83 % nearby\n",
      "\n",
      "\n",
      "title: 3022 N American St, Philadelphia, PA 19133\n",
      "link: https://www.zillow.com/homedetails/3022-N-American-St-Philadelphia-PA-19133/118349697_zpid/\n",
      "\n",
      "\tZillow last checked:  3 hours ago\n",
      "\n",
      "\n",
      "title: 6424 City Ave, Philadelphia, PA 19151\n",
      "link: https://www.zillow.com/homedetails/6424-City-Ave-Philadelphia-PA-19151/2054068561_zpid/\n",
      "\n",
      "\tLikely to sell faster than 99 % nearby\n",
      "\n",
      "\n",
      "title: 6506 N Fairhill St, Philadelphia, PA 19126\n",
      "link: https://www.zillow.com/homedetails/6506-N-Fairhill-St-Philadelphia-PA-19126/10545698_zpid/\n",
      "\n",
      "\tZillow last checked:  3 hours ago\n",
      "\n",
      "\n"
     ]
    }
   ],
   "source": [
    "for i in range(2,len(page_links)):\n",
    "\n",
    "    link=page_links[i]\n",
    "    ovPage = driver.get(link)\n",
    "    textSoup = BeautifulSoup(driver.page_source,\"html.parser\")\n",
    "    title = textSoup.select(titleSelector)[0].text\n",
    "\n",
    "    if len(textSoup.select(descSelector))>0 and len(textSoup.select(descSelector)[0].text)>70:\n",
    "        text = textSoup.select(descSelector)[0].text\n",
    "    elif len(textSoup.select(sale2Selector)[0]) and len(textSoup.select(sale2Selector)[0].text)>70:\n",
    "        text= textSoup.select(sale2Selector)[0].text\n",
    "    elif len(textSoup.select(saleSelector)[0])>0 and len(textSoup.select(saleSelector)[0].text)>70:\n",
    "        text= textSoup.select(saleSelector)[0].text\n",
    "    else:\n",
    "        text=\"\"\n",
    "\n",
    "    results.append({\n",
    "        \"title\": title,\n",
    "        \"description\": text,\n",
    "        \"url\": link\n",
    "    })\n",
    "    print(f\"title: {title}\\nlink: {link}\\n\\n\\t{text}\\n\\n\")\n",
    "    time.sleep(3)"
   ]
  },
  {
   "cell_type": "markdown",
   "metadata": {},
   "source": [
    "### Descriptions from For Sale Pages"
   ]
  },
  {
   "cell_type": "code",
   "execution_count": 32,
   "metadata": {},
   "outputs": [
    {
     "data": {
      "text/plain": [
       "[{'title': '11102 Hendrix St,\\xa0Philadelphia, PA 19116',\n",
       "  'description': 'The data relating to real estate for sale on this website appears in part through the BRIGHT Internet Data Exchange program, a voluntary cooperative exchange of property listing data between licensed real estate brokerage firms, and is provided by BRIGHT through a licensing agreement.\\nListing information is from various brokers who participate in the Bright MLS IDX program and not all listings may be visible on the site. \\nThe property information being provided on or through the website is for the personal, non-commercial use of consumers and such information may not be used for any purpose other than to identify prospective properties consumers may be interested in purchasing.\\nSome properties which appear for sale on the website may no longer be available because they are for instance, under contract, sold or are no longer being offered for sale. \\nProperty information displayed is deemed reliable but is not guaranteed. \\nCopyright 2023 Bright MLS, Inc. Click here for more information\\nThe listing broker’s offer of compensation is made only to participants of the MLS where the listing is filed.\\n',\n",
       "  'url': 'https://www.zillow.com/homedetails/11102-Hendrix-St-Philadelphia-PA-19116/10531637_zpid/'},\n",
       " {'title': '706 Latona St UNIT I,\\xa0Philadelphia, PA 19147',\n",
       "  'description': 'The data relating to real estate for sale on this website appears in part through the BRIGHT Internet Data Exchange program, a voluntary cooperative exchange of property listing data between licensed real estate brokerage firms, and is provided by BRIGHT through a licensing agreement.\\nListing information is from various brokers who participate in the Bright MLS IDX program and not all listings may be visible on the site. \\nThe property information being provided on or through the website is for the personal, non-commercial use of consumers and such information may not be used for any purpose other than to identify prospective properties consumers may be interested in purchasing.\\nSome properties which appear for sale on the website may no longer be available because they are for instance, under contract, sold or are no longer being offered for sale. \\nProperty information displayed is deemed reliable but is not guaranteed. \\nCopyright 2023 Bright MLS, Inc. Click here for more information\\nThe listing broker’s offer of compensation is made only to participants of the MLS where the listing is filed.\\n',\n",
       "  'url': 'https://www.zillow.com/homedetails/706-Latona-St-UNIT-I-Philadelphia-PA-19147/2059089682_zpid/'}]"
      ]
     },
     "execution_count": 32,
     "metadata": {},
     "output_type": "execute_result"
    }
   ],
   "source": [
    "results"
   ]
  },
  {
   "cell_type": "code",
   "execution_count": 41,
   "metadata": {},
   "outputs": [
    {
     "name": "stdout",
     "output_type": "stream",
     "text": [
      "title: 706 Latona St UNIT I, Philadelphia, PA 19147\n",
      "link: https://www.zillow.com/homedetails/706-Latona-St-UNIT-I-Philadelphia-PA-19147/2059089682_zpid/\n",
      "\n",
      "\tWelcome to Maxim Plaza, a collection of ten luxury townhomes in the Passyunk Square neighborhood of Center City, Philadelphia. The “Brynn” is a 17-foot-wide home, spanning approximately 3,700 square feet and comprises of multiple outdoor spaces, 1-car parking,4-bedrooms, 3-full bathrooms, and 2-half bathrooms.   The living room; bright and ...   read more\n",
      "\n",
      "\n"
     ]
    }
   ],
   "source": [
    "# if len(textSoup.select(\"div.px-captcha-container\")) > 0:\n",
    "#     time.sleep(3)\n",
    "#     continue\n",
    "# else:\n",
    "# results=[]\n",
    "title = textSoup.select(titleSelector)[0].text\n",
    "if len(textSoup.select(descSelector))>0:\n",
    "    text = textSoup.select(descSelector)[0].text\n",
    "elif len(textSoup.select(sale2Selector)[0]):\n",
    "    text= textSoup.select(sale2Selector)[0].text\n",
    "elif len(textSoup.select(saleSelector)[0])>0:\n",
    "    text= textSoup.select(saleSelector)[0].text\n",
    "\n",
    "results.append({\n",
    "    \"title\": title,\n",
    "    \"description\": text,\n",
    "    \"url\": link\n",
    "})\n",
    "print(f\"title: {title}\\nlink: {link}\\n\\n\\t{text}\\n\\n\")"
   ]
  },
  {
   "cell_type": "code",
   "execution_count": null,
   "metadata": {},
   "outputs": [],
   "source": [
    "results = []\n",
    "for link in page_links:\n",
    "    ovPage = textDriver.get(link)\n",
    "    textSoup = BeautifulSoup(textDriver.page_source,\"html.parser\")\n",
    "\n",
    "    if len(textSoup.select(\"div.px-captcha-container\")) > 0:\n",
    "        time.sleep(3)\n",
    "        continue\n",
    "    else:\n",
    "    \n",
    "        title = textSoup.select(titleSelector)[0].text\n",
    "        text = textSoup.select(descSelector)[0].text\n",
    "\n",
    "        results.append({\n",
    "            \"title\": title,\n",
    "            \"description\": text,\n",
    "            \"url\": link\n",
    "        })\n",
    "        print(f\"title: {title}\\nlink{link}\")\n",
    "\n",
    "    time.sleep(3)\n",
    "    print(textDriver.getWebHandle())\n",
    "\n",
    "textDriver.quit()\n",
    "results\n",
    "\n",
    "# data = pd.Dataframe(results)"
   ]
  },
  {
   "cell_type": "markdown",
   "metadata": {},
   "source": [
    "### Testing for data scrape pipeline"
   ]
  },
  {
   "cell_type": "code",
   "execution_count": 151,
   "metadata": {},
   "outputs": [],
   "source": [
    "chrome_options = Options()\n",
    "# sel_path = os.path.join(os.getcwd(), 'selenium_cookies')\n",
    "# chrome_options.add_argument(\"user-data-dir=\"+ sel_path)\n",
    "# chrome_options.add_argument(\"user-data-dir=selenium\") \n",
    "chrome_options.add_argument(\"--headless\")\n",
    "chrome_options.add_experimental_option(\"excludeSwitches\", [\"enable-automation\"])\n",
    "chrome_options.add_experimental_option(\"useAutomationExtension\", False) \n",
    "\n",
    "driver = webdriver.Chrome(options=chrome_options)\n",
    "\n",
    "stealth(driver,\n",
    "       user_agent = 'Mozilla/5.0 (Windows NT 10.0; Win64; x64) AppleWebKit/537.36 (KHTML, like Gecko) Chrome/110.0.5481.105 Safari/537.36',\n",
    "       languages=[\"en-US\", \"en\"],\n",
    "       vendor=\"Google Inc.\",\n",
    "       platform=\"Win32\",\n",
    "       webgl_vendor=\"Intel Inc.\",\n",
    "       renderer=\"Intel Iris OpenGL Engine\",\n",
    "       fix_hairline=True,\n",
    "       )\n",
    "\n",
    "textDriver = webdriver.Chrome(options=chrome_options)\n",
    "\n",
    "stealth(textDriver,\n",
    "       user_agent = 'Mozilla/5.0 (Windows NT 10.0; Win64; x64) AppleWebKit/537.36 (KHTML, like Gecko) Chrome/110.0.5481.105 Safari/537.36',\n",
    "       languages=[\"en-US\", \"en\"],\n",
    "       vendor=\"Google Inc.\",\n",
    "       platform=\"Win32\",\n",
    "       webgl_vendor=\"Intel Inc.\",\n",
    "       renderer=\"Intel Iris OpenGL Engine\",\n",
    "       fix_hairline=True,\n",
    "       )\n"
   ]
  },
  {
   "cell_type": "code",
   "execution_count": 152,
   "metadata": {},
   "outputs": [],
   "source": [
    "url=\"https://www.zillow.com/philadelphia-pa/rentals/\" #+str(page) + '_p/'\n",
    "url2 = \"https://www.zillow.com/philadelphia-pa/for_sale/\"\n",
    "    \n",
    "\n",
    "# After the browser has been launched use the get() to pass the url \n",
    "browser = driver.get(url)\n",
    "html = driver.execute_script(\"return document.documentElement.outerHTML\")\n",
    "soup = BeautifulSoup(html, 'html.parser')\n",
    "# CraiglistBrowser.quit()\n",
    "# print(url)\n",
    "\n",
    "titleSelector = \"h1.Text-c11n-8-84-3__sc-aiai24-0\"\n",
    "descSelector = \"div.building-description\"\n",
    "linkSelector = \"div.StyledPropertyCardDataWrapper-c11n-8-84-3__sc-1omp4c3-0\""
   ]
  },
  {
   "cell_type": "markdown",
   "metadata": {},
   "source": [
    "#### Get webpage for overview"
   ]
  },
  {
   "cell_type": "code",
   "execution_count": 157,
   "metadata": {},
   "outputs": [
    {
     "data": {
      "text/plain": [
       "['https://www.zillow.com/apartments/philadelphia-pa/the-ledger-residences/98vLHX/',\n",
       " 'https://www.zillow.com/b/building/39.94893,-75.15103_ll/',\n",
       " 'https://www.zillow.com/apartments/philadelphia-pa/the-national/B65ddJ/',\n",
       " 'https://www.zillow.com/apartments/philadelphia-pa/the-legacy-at-powelton-village/98vHTJ/',\n",
       " 'https://www.zillow.com/apartments/philadelphia-pa/the-grace/98wLDW/',\n",
       " 'https://www.zillow.com/apartments/philadelphia-pa/the-hq/9PXKWh/',\n",
       " 'https://www.zillow.com/homedetails/112-S-19th-St-A5AB73E33-Philadelphia-PA-19103/2054435564_zpid/',\n",
       " 'https://www.zillow.com/apartments/philadelphia-pa/the-harper/9PWjcR/',\n",
       " 'https://www.zillow.com/homedetails/112-S-19th-St-A6AD7858D-Philadelphia-PA-19103/2054435572_zpid/']"
      ]
     },
     "execution_count": 157,
     "metadata": {},
     "output_type": "execute_result"
    }
   ],
   "source": [
    "# len(soup.select(\"div.StyledPropertyCardDataWrapper-c11n-8-84-3__sc-1omp4c3-0\"))\n",
    "# soup.select(\"div.StyledPropertyCardDataWrapper-c11n-8-84-3__sc-1omp4c3-0\")[0].select(\"a\")[0].attrs[\"href\"]\n",
    "page_links = []\n",
    "# soup = BeautifulSoup(driver.page_source, 'html.parser')\n",
    "soup = BeautifulSoup(html, 'html.parser')\n",
    "\n",
    "for item in soup.select(linkSelector):\n",
    "    l = item.select(\"a\")[0].attrs[\"href\"]\n",
    "    if not(l.startswith(\"https://\")):\n",
    "        l = \"https://www.zillow.com\"+l\n",
    "    page_links.append(l)\n",
    "\n",
    "page_links\n"
   ]
  },
  {
   "cell_type": "markdown",
   "metadata": {},
   "source": [
    "#### Get Title & Description for listing (maybe address too--likely from prior though--)"
   ]
  },
  {
   "cell_type": "markdown",
   "metadata": {},
   "source": [
    "*   Theoretically works, but zillow does human captcha whenever I get here."
   ]
  },
  {
   "cell_type": "code",
   "execution_count": 154,
   "metadata": {},
   "outputs": [
    {
     "data": {
      "text/plain": [
       "[]"
      ]
     },
     "execution_count": 154,
     "metadata": {},
     "output_type": "execute_result"
    }
   ],
   "source": [
    "results = []\n",
    "for link in page_links:\n",
    "    ovPage = textDriver.get(link)\n",
    "    textSoup = BeautifulSoup(textDriver.page_source,\"html.parser\")\n",
    "\n",
    "    if len(textSoup.select(\"div.px-captcha-container\")) > 0:\n",
    "        time.sleep(3)\n",
    "        continue\n",
    "    else:\n",
    "    \n",
    "        title = textSoup.select(titleSelector)[0].text\n",
    "        text = textSoup.select(descSelector)[0].text\n",
    "\n",
    "        results.append({\n",
    "            \"title\": title,\n",
    "            \"description\": text,\n",
    "            \"url\": link\n",
    "        })\n",
    "        print(f\"title: {title}\\nlink{link}\")\n",
    "\n",
    "    time.sleep(3)\n",
    "    print(textDriver.getWebHandle())\n",
    "\n",
    "textDriver.quit()\n",
    "results\n",
    "\n",
    "# data = pd.Dataframe(results)"
   ]
  },
  {
   "cell_type": "code",
   "execution_count": 158,
   "metadata": {},
   "outputs": [
    {
     "ename": "MaxRetryError",
     "evalue": "HTTPConnectionPool(host='localhost', port=64216): Max retries exceeded with url: /session/7b3acff2f56d1ca1391088bb25b7487a/url (Caused by NewConnectionError('<urllib3.connection.HTTPConnection object at 0x000001658E939390>: Failed to establish a new connection: [WinError 10061] No connection could be made because the target machine actively refused it'))",
     "output_type": "error",
     "traceback": [
      "\u001b[1;31m---------------------------------------------------------------------------\u001b[0m",
      "\u001b[1;31mConnectionRefusedError\u001b[0m                    Traceback (most recent call last)",
      "File \u001b[1;32mc:\\Users\\timol\\mambaforge\\envs\\musa-550-fall-2023\\lib\\site-packages\\urllib3\\connection.py:174\u001b[0m, in \u001b[0;36mHTTPConnection._new_conn\u001b[1;34m(self)\u001b[0m\n\u001b[0;32m    173\u001b[0m \u001b[39mtry\u001b[39;00m:\n\u001b[1;32m--> 174\u001b[0m     conn \u001b[39m=\u001b[39m connection\u001b[39m.\u001b[39mcreate_connection(\n\u001b[0;32m    175\u001b[0m         (\u001b[39mself\u001b[39m\u001b[39m.\u001b[39m_dns_host, \u001b[39mself\u001b[39m\u001b[39m.\u001b[39mport), \u001b[39mself\u001b[39m\u001b[39m.\u001b[39mtimeout, \u001b[39m*\u001b[39m\u001b[39m*\u001b[39mextra_kw\n\u001b[0;32m    176\u001b[0m     )\n\u001b[0;32m    178\u001b[0m \u001b[39mexcept\u001b[39;00m SocketTimeout:\n",
      "File \u001b[1;32mc:\\Users\\timol\\mambaforge\\envs\\musa-550-fall-2023\\lib\\site-packages\\urllib3\\util\\connection.py:95\u001b[0m, in \u001b[0;36mcreate_connection\u001b[1;34m(address, timeout, source_address, socket_options)\u001b[0m\n\u001b[0;32m     94\u001b[0m \u001b[39mif\u001b[39;00m err \u001b[39mis\u001b[39;00m \u001b[39mnot\u001b[39;00m \u001b[39mNone\u001b[39;00m:\n\u001b[1;32m---> 95\u001b[0m     \u001b[39mraise\u001b[39;00m err\n\u001b[0;32m     97\u001b[0m \u001b[39mraise\u001b[39;00m socket\u001b[39m.\u001b[39merror(\u001b[39m\"\u001b[39m\u001b[39mgetaddrinfo returns an empty list\u001b[39m\u001b[39m\"\u001b[39m)\n",
      "File \u001b[1;32mc:\\Users\\timol\\mambaforge\\envs\\musa-550-fall-2023\\lib\\site-packages\\urllib3\\util\\connection.py:85\u001b[0m, in \u001b[0;36mcreate_connection\u001b[1;34m(address, timeout, source_address, socket_options)\u001b[0m\n\u001b[0;32m     84\u001b[0m     sock\u001b[39m.\u001b[39mbind(source_address)\n\u001b[1;32m---> 85\u001b[0m sock\u001b[39m.\u001b[39;49mconnect(sa)\n\u001b[0;32m     86\u001b[0m \u001b[39mreturn\u001b[39;00m sock\n",
      "\u001b[1;31mConnectionRefusedError\u001b[0m: [WinError 10061] No connection could be made because the target machine actively refused it",
      "\nDuring handling of the above exception, another exception occurred:\n",
      "\u001b[1;31mNewConnectionError\u001b[0m                        Traceback (most recent call last)",
      "File \u001b[1;32mc:\\Users\\timol\\mambaforge\\envs\\musa-550-fall-2023\\lib\\site-packages\\urllib3\\connectionpool.py:714\u001b[0m, in \u001b[0;36mHTTPConnectionPool.urlopen\u001b[1;34m(self, method, url, body, headers, retries, redirect, assert_same_host, timeout, pool_timeout, release_conn, chunked, body_pos, **response_kw)\u001b[0m\n\u001b[0;32m    713\u001b[0m \u001b[39m# Make the request on the httplib connection object.\u001b[39;00m\n\u001b[1;32m--> 714\u001b[0m httplib_response \u001b[39m=\u001b[39m \u001b[39mself\u001b[39;49m\u001b[39m.\u001b[39;49m_make_request(\n\u001b[0;32m    715\u001b[0m     conn,\n\u001b[0;32m    716\u001b[0m     method,\n\u001b[0;32m    717\u001b[0m     url,\n\u001b[0;32m    718\u001b[0m     timeout\u001b[39m=\u001b[39;49mtimeout_obj,\n\u001b[0;32m    719\u001b[0m     body\u001b[39m=\u001b[39;49mbody,\n\u001b[0;32m    720\u001b[0m     headers\u001b[39m=\u001b[39;49mheaders,\n\u001b[0;32m    721\u001b[0m     chunked\u001b[39m=\u001b[39;49mchunked,\n\u001b[0;32m    722\u001b[0m )\n\u001b[0;32m    724\u001b[0m \u001b[39m# If we're going to release the connection in ``finally:``, then\u001b[39;00m\n\u001b[0;32m    725\u001b[0m \u001b[39m# the response doesn't need to know about the connection. Otherwise\u001b[39;00m\n\u001b[0;32m    726\u001b[0m \u001b[39m# it will also try to release it and we'll have a double-release\u001b[39;00m\n\u001b[0;32m    727\u001b[0m \u001b[39m# mess.\u001b[39;00m\n",
      "File \u001b[1;32mc:\\Users\\timol\\mambaforge\\envs\\musa-550-fall-2023\\lib\\site-packages\\urllib3\\connectionpool.py:415\u001b[0m, in \u001b[0;36mHTTPConnectionPool._make_request\u001b[1;34m(self, conn, method, url, timeout, chunked, **httplib_request_kw)\u001b[0m\n\u001b[0;32m    414\u001b[0m     \u001b[39melse\u001b[39;00m:\n\u001b[1;32m--> 415\u001b[0m         conn\u001b[39m.\u001b[39mrequest(method, url, \u001b[39m*\u001b[39m\u001b[39m*\u001b[39mhttplib_request_kw)\n\u001b[0;32m    417\u001b[0m \u001b[39m# We are swallowing BrokenPipeError (errno.EPIPE) since the server is\u001b[39;00m\n\u001b[0;32m    418\u001b[0m \u001b[39m# legitimately able to close the connection after sending a valid response.\u001b[39;00m\n\u001b[0;32m    419\u001b[0m \u001b[39m# With this behaviour, the received response is still readable.\u001b[39;00m\n",
      "File \u001b[1;32mc:\\Users\\timol\\mambaforge\\envs\\musa-550-fall-2023\\lib\\site-packages\\urllib3\\connection.py:244\u001b[0m, in \u001b[0;36mHTTPConnection.request\u001b[1;34m(self, method, url, body, headers)\u001b[0m\n\u001b[0;32m    243\u001b[0m     headers[\u001b[39m\"\u001b[39m\u001b[39mUser-Agent\u001b[39m\u001b[39m\"\u001b[39m] \u001b[39m=\u001b[39m _get_default_user_agent()\n\u001b[1;32m--> 244\u001b[0m \u001b[39msuper\u001b[39;49m(HTTPConnection, \u001b[39mself\u001b[39;49m)\u001b[39m.\u001b[39;49mrequest(method, url, body\u001b[39m=\u001b[39;49mbody, headers\u001b[39m=\u001b[39;49mheaders)\n",
      "File \u001b[1;32mc:\\Users\\timol\\mambaforge\\envs\\musa-550-fall-2023\\lib\\http\\client.py:1283\u001b[0m, in \u001b[0;36mHTTPConnection.request\u001b[1;34m(self, method, url, body, headers, encode_chunked)\u001b[0m\n\u001b[0;32m   1282\u001b[0m \u001b[39m\u001b[39m\u001b[39m\"\"\"Send a complete request to the server.\"\"\"\u001b[39;00m\n\u001b[1;32m-> 1283\u001b[0m \u001b[39mself\u001b[39;49m\u001b[39m.\u001b[39;49m_send_request(method, url, body, headers, encode_chunked)\n",
      "File \u001b[1;32mc:\\Users\\timol\\mambaforge\\envs\\musa-550-fall-2023\\lib\\http\\client.py:1329\u001b[0m, in \u001b[0;36mHTTPConnection._send_request\u001b[1;34m(self, method, url, body, headers, encode_chunked)\u001b[0m\n\u001b[0;32m   1328\u001b[0m     body \u001b[39m=\u001b[39m _encode(body, \u001b[39m'\u001b[39m\u001b[39mbody\u001b[39m\u001b[39m'\u001b[39m)\n\u001b[1;32m-> 1329\u001b[0m \u001b[39mself\u001b[39;49m\u001b[39m.\u001b[39;49mendheaders(body, encode_chunked\u001b[39m=\u001b[39;49mencode_chunked)\n",
      "File \u001b[1;32mc:\\Users\\timol\\mambaforge\\envs\\musa-550-fall-2023\\lib\\http\\client.py:1278\u001b[0m, in \u001b[0;36mHTTPConnection.endheaders\u001b[1;34m(self, message_body, encode_chunked)\u001b[0m\n\u001b[0;32m   1277\u001b[0m     \u001b[39mraise\u001b[39;00m CannotSendHeader()\n\u001b[1;32m-> 1278\u001b[0m \u001b[39mself\u001b[39;49m\u001b[39m.\u001b[39;49m_send_output(message_body, encode_chunked\u001b[39m=\u001b[39;49mencode_chunked)\n",
      "File \u001b[1;32mc:\\Users\\timol\\mambaforge\\envs\\musa-550-fall-2023\\lib\\http\\client.py:1038\u001b[0m, in \u001b[0;36mHTTPConnection._send_output\u001b[1;34m(self, message_body, encode_chunked)\u001b[0m\n\u001b[0;32m   1037\u001b[0m \u001b[39mdel\u001b[39;00m \u001b[39mself\u001b[39m\u001b[39m.\u001b[39m_buffer[:]\n\u001b[1;32m-> 1038\u001b[0m \u001b[39mself\u001b[39;49m\u001b[39m.\u001b[39;49msend(msg)\n\u001b[0;32m   1040\u001b[0m \u001b[39mif\u001b[39;00m message_body \u001b[39mis\u001b[39;00m \u001b[39mnot\u001b[39;00m \u001b[39mNone\u001b[39;00m:\n\u001b[0;32m   1041\u001b[0m \n\u001b[0;32m   1042\u001b[0m     \u001b[39m# create a consistent interface to message_body\u001b[39;00m\n",
      "File \u001b[1;32mc:\\Users\\timol\\mambaforge\\envs\\musa-550-fall-2023\\lib\\http\\client.py:976\u001b[0m, in \u001b[0;36mHTTPConnection.send\u001b[1;34m(self, data)\u001b[0m\n\u001b[0;32m    975\u001b[0m \u001b[39mif\u001b[39;00m \u001b[39mself\u001b[39m\u001b[39m.\u001b[39mauto_open:\n\u001b[1;32m--> 976\u001b[0m     \u001b[39mself\u001b[39;49m\u001b[39m.\u001b[39;49mconnect()\n\u001b[0;32m    977\u001b[0m \u001b[39melse\u001b[39;00m:\n",
      "File \u001b[1;32mc:\\Users\\timol\\mambaforge\\envs\\musa-550-fall-2023\\lib\\site-packages\\urllib3\\connection.py:205\u001b[0m, in \u001b[0;36mHTTPConnection.connect\u001b[1;34m(self)\u001b[0m\n\u001b[0;32m    204\u001b[0m \u001b[39mdef\u001b[39;00m \u001b[39mconnect\u001b[39m(\u001b[39mself\u001b[39m):\n\u001b[1;32m--> 205\u001b[0m     conn \u001b[39m=\u001b[39m \u001b[39mself\u001b[39;49m\u001b[39m.\u001b[39;49m_new_conn()\n\u001b[0;32m    206\u001b[0m     \u001b[39mself\u001b[39m\u001b[39m.\u001b[39m_prepare_conn(conn)\n",
      "File \u001b[1;32mc:\\Users\\timol\\mambaforge\\envs\\musa-550-fall-2023\\lib\\site-packages\\urllib3\\connection.py:186\u001b[0m, in \u001b[0;36mHTTPConnection._new_conn\u001b[1;34m(self)\u001b[0m\n\u001b[0;32m    185\u001b[0m \u001b[39mexcept\u001b[39;00m SocketError \u001b[39mas\u001b[39;00m e:\n\u001b[1;32m--> 186\u001b[0m     \u001b[39mraise\u001b[39;00m NewConnectionError(\n\u001b[0;32m    187\u001b[0m         \u001b[39mself\u001b[39m, \u001b[39m\"\u001b[39m\u001b[39mFailed to establish a new connection: \u001b[39m\u001b[39m%s\u001b[39;00m\u001b[39m\"\u001b[39m \u001b[39m%\u001b[39m e\n\u001b[0;32m    188\u001b[0m     )\n\u001b[0;32m    190\u001b[0m \u001b[39mreturn\u001b[39;00m conn\n",
      "\u001b[1;31mNewConnectionError\u001b[0m: <urllib3.connection.HTTPConnection object at 0x000001658E939390>: Failed to establish a new connection: [WinError 10061] No connection could be made because the target machine actively refused it",
      "\nDuring handling of the above exception, another exception occurred:\n",
      "\u001b[1;31mMaxRetryError\u001b[0m                             Traceback (most recent call last)",
      "\u001b[1;32md:\\timol\\Grad_School\\Fall_2023\\Geospatial_Data_Science_in_Python\\final_project\\MUSA_5500_Final\\data\\modified_webscraping\\Webscraping Zillow Data.ipynb Cell 18\u001b[0m line \u001b[0;36m1\n\u001b[1;32m----> <a href='vscode-notebook-cell:/d%3A/timol/Grad_School/Fall_2023/Geospatial_Data_Science_in_Python/final_project/MUSA_5500_Final/data/modified_webscraping/Webscraping%20Zillow%20Data.ipynb#X21sZmlsZQ%3D%3D?line=0'>1</a>\u001b[0m ovPage \u001b[39m=\u001b[39m textDriver\u001b[39m.\u001b[39;49mget(page_links[\u001b[39m0\u001b[39;49m])\n\u001b[0;32m      <a href='vscode-notebook-cell:/d%3A/timol/Grad_School/Fall_2023/Geospatial_Data_Science_in_Python/final_project/MUSA_5500_Final/data/modified_webscraping/Webscraping%20Zillow%20Data.ipynb#X21sZmlsZQ%3D%3D?line=1'>2</a>\u001b[0m textSoup \u001b[39m=\u001b[39m BeautifulSoup(textDriver\u001b[39m.\u001b[39mpage_source,\u001b[39m\"\u001b[39m\u001b[39mhtml.parser\u001b[39m\u001b[39m\"\u001b[39m)\n\u001b[0;32m      <a href='vscode-notebook-cell:/d%3A/timol/Grad_School/Fall_2023/Geospatial_Data_Science_in_Python/final_project/MUSA_5500_Final/data/modified_webscraping/Webscraping%20Zillow%20Data.ipynb#X21sZmlsZQ%3D%3D?line=2'>3</a>\u001b[0m title \u001b[39m=\u001b[39m textSoup\u001b[39m.\u001b[39mselect(titleSelector)[\u001b[39m0\u001b[39m]\u001b[39m.\u001b[39mtext\n",
      "File \u001b[1;32mc:\\Users\\timol\\mambaforge\\envs\\musa-550-fall-2023\\lib\\site-packages\\selenium\\webdriver\\remote\\webdriver.py:353\u001b[0m, in \u001b[0;36mWebDriver.get\u001b[1;34m(self, url)\u001b[0m\n\u001b[0;32m    351\u001b[0m \u001b[39mdef\u001b[39;00m \u001b[39mget\u001b[39m(\u001b[39mself\u001b[39m, url: \u001b[39mstr\u001b[39m) \u001b[39m-\u001b[39m\u001b[39m>\u001b[39m \u001b[39mNone\u001b[39;00m:\n\u001b[0;32m    352\u001b[0m \u001b[39m    \u001b[39m\u001b[39m\"\"\"Loads a web page in the current browser session.\"\"\"\u001b[39;00m\n\u001b[1;32m--> 353\u001b[0m     \u001b[39mself\u001b[39;49m\u001b[39m.\u001b[39;49mexecute(Command\u001b[39m.\u001b[39;49mGET, {\u001b[39m\"\u001b[39;49m\u001b[39murl\u001b[39;49m\u001b[39m\"\u001b[39;49m: url})\n",
      "File \u001b[1;32mc:\\Users\\timol\\mambaforge\\envs\\musa-550-fall-2023\\lib\\site-packages\\selenium\\webdriver\\remote\\webdriver.py:342\u001b[0m, in \u001b[0;36mWebDriver.execute\u001b[1;34m(self, driver_command, params)\u001b[0m\n\u001b[0;32m    339\u001b[0m     \u001b[39melif\u001b[39;00m \u001b[39m\"\u001b[39m\u001b[39msessionId\u001b[39m\u001b[39m\"\u001b[39m \u001b[39mnot\u001b[39;00m \u001b[39min\u001b[39;00m params:\n\u001b[0;32m    340\u001b[0m         params[\u001b[39m\"\u001b[39m\u001b[39msessionId\u001b[39m\u001b[39m\"\u001b[39m] \u001b[39m=\u001b[39m \u001b[39mself\u001b[39m\u001b[39m.\u001b[39msession_id\n\u001b[1;32m--> 342\u001b[0m response \u001b[39m=\u001b[39m \u001b[39mself\u001b[39;49m\u001b[39m.\u001b[39;49mcommand_executor\u001b[39m.\u001b[39;49mexecute(driver_command, params)\n\u001b[0;32m    343\u001b[0m \u001b[39mif\u001b[39;00m response:\n\u001b[0;32m    344\u001b[0m     \u001b[39mself\u001b[39m\u001b[39m.\u001b[39merror_handler\u001b[39m.\u001b[39mcheck_response(response)\n",
      "File \u001b[1;32mc:\\Users\\timol\\mambaforge\\envs\\musa-550-fall-2023\\lib\\site-packages\\selenium\\webdriver\\remote\\remote_connection.py:297\u001b[0m, in \u001b[0;36mRemoteConnection.execute\u001b[1;34m(self, command, params)\u001b[0m\n\u001b[0;32m    295\u001b[0m data \u001b[39m=\u001b[39m utils\u001b[39m.\u001b[39mdump_json(params)\n\u001b[0;32m    296\u001b[0m url \u001b[39m=\u001b[39m \u001b[39mf\u001b[39m\u001b[39m\"\u001b[39m\u001b[39m{\u001b[39;00m\u001b[39mself\u001b[39m\u001b[39m.\u001b[39m_url\u001b[39m}\u001b[39;00m\u001b[39m{\u001b[39;00mpath\u001b[39m}\u001b[39;00m\u001b[39m\"\u001b[39m\n\u001b[1;32m--> 297\u001b[0m \u001b[39mreturn\u001b[39;00m \u001b[39mself\u001b[39;49m\u001b[39m.\u001b[39;49m_request(command_info[\u001b[39m0\u001b[39;49m], url, body\u001b[39m=\u001b[39;49mdata)\n",
      "File \u001b[1;32mc:\\Users\\timol\\mambaforge\\envs\\musa-550-fall-2023\\lib\\site-packages\\selenium\\webdriver\\remote\\remote_connection.py:318\u001b[0m, in \u001b[0;36mRemoteConnection._request\u001b[1;34m(self, method, url, body)\u001b[0m\n\u001b[0;32m    315\u001b[0m     body \u001b[39m=\u001b[39m \u001b[39mNone\u001b[39;00m\n\u001b[0;32m    317\u001b[0m \u001b[39mif\u001b[39;00m \u001b[39mself\u001b[39m\u001b[39m.\u001b[39mkeep_alive:\n\u001b[1;32m--> 318\u001b[0m     response \u001b[39m=\u001b[39m \u001b[39mself\u001b[39;49m\u001b[39m.\u001b[39;49m_conn\u001b[39m.\u001b[39;49mrequest(method, url, body\u001b[39m=\u001b[39;49mbody, headers\u001b[39m=\u001b[39;49mheaders)\n\u001b[0;32m    319\u001b[0m     statuscode \u001b[39m=\u001b[39m response\u001b[39m.\u001b[39mstatus\n\u001b[0;32m    320\u001b[0m \u001b[39melse\u001b[39;00m:\n",
      "File \u001b[1;32mc:\\Users\\timol\\mambaforge\\envs\\musa-550-fall-2023\\lib\\site-packages\\urllib3\\request.py:78\u001b[0m, in \u001b[0;36mRequestMethods.request\u001b[1;34m(self, method, url, fields, headers, **urlopen_kw)\u001b[0m\n\u001b[0;32m     74\u001b[0m     \u001b[39mreturn\u001b[39;00m \u001b[39mself\u001b[39m\u001b[39m.\u001b[39mrequest_encode_url(\n\u001b[0;32m     75\u001b[0m         method, url, fields\u001b[39m=\u001b[39mfields, headers\u001b[39m=\u001b[39mheaders, \u001b[39m*\u001b[39m\u001b[39m*\u001b[39murlopen_kw\n\u001b[0;32m     76\u001b[0m     )\n\u001b[0;32m     77\u001b[0m \u001b[39melse\u001b[39;00m:\n\u001b[1;32m---> 78\u001b[0m     \u001b[39mreturn\u001b[39;00m \u001b[39mself\u001b[39m\u001b[39m.\u001b[39mrequest_encode_body(\n\u001b[0;32m     79\u001b[0m         method, url, fields\u001b[39m=\u001b[39mfields, headers\u001b[39m=\u001b[39mheaders, \u001b[39m*\u001b[39m\u001b[39m*\u001b[39murlopen_kw\n\u001b[0;32m     80\u001b[0m     )\n",
      "File \u001b[1;32mc:\\Users\\timol\\mambaforge\\envs\\musa-550-fall-2023\\lib\\site-packages\\urllib3\\request.py:170\u001b[0m, in \u001b[0;36mRequestMethods.request_encode_body\u001b[1;34m(self, method, url, fields, headers, encode_multipart, multipart_boundary, **urlopen_kw)\u001b[0m\n\u001b[0;32m    167\u001b[0m extra_kw[\u001b[39m\"\u001b[39m\u001b[39mheaders\u001b[39m\u001b[39m\"\u001b[39m]\u001b[39m.\u001b[39mupdate(headers)\n\u001b[0;32m    168\u001b[0m extra_kw\u001b[39m.\u001b[39mupdate(urlopen_kw)\n\u001b[1;32m--> 170\u001b[0m \u001b[39mreturn\u001b[39;00m \u001b[39mself\u001b[39m\u001b[39m.\u001b[39murlopen(method, url, \u001b[39m*\u001b[39m\u001b[39m*\u001b[39mextra_kw)\n",
      "File \u001b[1;32mc:\\Users\\timol\\mambaforge\\envs\\musa-550-fall-2023\\lib\\site-packages\\urllib3\\poolmanager.py:376\u001b[0m, in \u001b[0;36mPoolManager.urlopen\u001b[1;34m(self, method, url, redirect, **kw)\u001b[0m\n\u001b[0;32m    374\u001b[0m     response \u001b[39m=\u001b[39m conn\u001b[39m.\u001b[39murlopen(method, url, \u001b[39m*\u001b[39m\u001b[39m*\u001b[39mkw)\n\u001b[0;32m    375\u001b[0m \u001b[39melse\u001b[39;00m:\n\u001b[1;32m--> 376\u001b[0m     response \u001b[39m=\u001b[39m conn\u001b[39m.\u001b[39murlopen(method, u\u001b[39m.\u001b[39mrequest_uri, \u001b[39m*\u001b[39m\u001b[39m*\u001b[39mkw)\n\u001b[0;32m    378\u001b[0m redirect_location \u001b[39m=\u001b[39m redirect \u001b[39mand\u001b[39;00m response\u001b[39m.\u001b[39mget_redirect_location()\n\u001b[0;32m    379\u001b[0m \u001b[39mif\u001b[39;00m \u001b[39mnot\u001b[39;00m redirect_location:\n",
      "File \u001b[1;32mc:\\Users\\timol\\mambaforge\\envs\\musa-550-fall-2023\\lib\\site-packages\\urllib3\\connectionpool.py:826\u001b[0m, in \u001b[0;36mHTTPConnectionPool.urlopen\u001b[1;34m(self, method, url, body, headers, retries, redirect, assert_same_host, timeout, pool_timeout, release_conn, chunked, body_pos, **response_kw)\u001b[0m\n\u001b[0;32m    821\u001b[0m \u001b[39mif\u001b[39;00m \u001b[39mnot\u001b[39;00m conn:\n\u001b[0;32m    822\u001b[0m     \u001b[39m# Try again\u001b[39;00m\n\u001b[0;32m    823\u001b[0m     log\u001b[39m.\u001b[39mwarning(\n\u001b[0;32m    824\u001b[0m         \u001b[39m\"\u001b[39m\u001b[39mRetrying (\u001b[39m\u001b[39m%r\u001b[39;00m\u001b[39m) after connection broken by \u001b[39m\u001b[39m'\u001b[39m\u001b[39m%r\u001b[39;00m\u001b[39m'\u001b[39m\u001b[39m: \u001b[39m\u001b[39m%s\u001b[39;00m\u001b[39m\"\u001b[39m, retries, err, url\n\u001b[0;32m    825\u001b[0m     )\n\u001b[1;32m--> 826\u001b[0m     \u001b[39mreturn\u001b[39;00m \u001b[39mself\u001b[39m\u001b[39m.\u001b[39murlopen(\n\u001b[0;32m    827\u001b[0m         method,\n\u001b[0;32m    828\u001b[0m         url,\n\u001b[0;32m    829\u001b[0m         body,\n\u001b[0;32m    830\u001b[0m         headers,\n\u001b[0;32m    831\u001b[0m         retries,\n\u001b[0;32m    832\u001b[0m         redirect,\n\u001b[0;32m    833\u001b[0m         assert_same_host,\n\u001b[0;32m    834\u001b[0m         timeout\u001b[39m=\u001b[39mtimeout,\n\u001b[0;32m    835\u001b[0m         pool_timeout\u001b[39m=\u001b[39mpool_timeout,\n\u001b[0;32m    836\u001b[0m         release_conn\u001b[39m=\u001b[39mrelease_conn,\n\u001b[0;32m    837\u001b[0m         chunked\u001b[39m=\u001b[39mchunked,\n\u001b[0;32m    838\u001b[0m         body_pos\u001b[39m=\u001b[39mbody_pos,\n\u001b[0;32m    839\u001b[0m         \u001b[39m*\u001b[39m\u001b[39m*\u001b[39mresponse_kw\n\u001b[0;32m    840\u001b[0m     )\n\u001b[0;32m    842\u001b[0m \u001b[39m# Handle redirect?\u001b[39;00m\n\u001b[0;32m    843\u001b[0m redirect_location \u001b[39m=\u001b[39m redirect \u001b[39mand\u001b[39;00m response\u001b[39m.\u001b[39mget_redirect_location()\n",
      "File \u001b[1;32mc:\\Users\\timol\\mambaforge\\envs\\musa-550-fall-2023\\lib\\site-packages\\urllib3\\connectionpool.py:826\u001b[0m, in \u001b[0;36mHTTPConnectionPool.urlopen\u001b[1;34m(self, method, url, body, headers, retries, redirect, assert_same_host, timeout, pool_timeout, release_conn, chunked, body_pos, **response_kw)\u001b[0m\n\u001b[0;32m    821\u001b[0m \u001b[39mif\u001b[39;00m \u001b[39mnot\u001b[39;00m conn:\n\u001b[0;32m    822\u001b[0m     \u001b[39m# Try again\u001b[39;00m\n\u001b[0;32m    823\u001b[0m     log\u001b[39m.\u001b[39mwarning(\n\u001b[0;32m    824\u001b[0m         \u001b[39m\"\u001b[39m\u001b[39mRetrying (\u001b[39m\u001b[39m%r\u001b[39;00m\u001b[39m) after connection broken by \u001b[39m\u001b[39m'\u001b[39m\u001b[39m%r\u001b[39;00m\u001b[39m'\u001b[39m\u001b[39m: \u001b[39m\u001b[39m%s\u001b[39;00m\u001b[39m\"\u001b[39m, retries, err, url\n\u001b[0;32m    825\u001b[0m     )\n\u001b[1;32m--> 826\u001b[0m     \u001b[39mreturn\u001b[39;00m \u001b[39mself\u001b[39m\u001b[39m.\u001b[39murlopen(\n\u001b[0;32m    827\u001b[0m         method,\n\u001b[0;32m    828\u001b[0m         url,\n\u001b[0;32m    829\u001b[0m         body,\n\u001b[0;32m    830\u001b[0m         headers,\n\u001b[0;32m    831\u001b[0m         retries,\n\u001b[0;32m    832\u001b[0m         redirect,\n\u001b[0;32m    833\u001b[0m         assert_same_host,\n\u001b[0;32m    834\u001b[0m         timeout\u001b[39m=\u001b[39mtimeout,\n\u001b[0;32m    835\u001b[0m         pool_timeout\u001b[39m=\u001b[39mpool_timeout,\n\u001b[0;32m    836\u001b[0m         release_conn\u001b[39m=\u001b[39mrelease_conn,\n\u001b[0;32m    837\u001b[0m         chunked\u001b[39m=\u001b[39mchunked,\n\u001b[0;32m    838\u001b[0m         body_pos\u001b[39m=\u001b[39mbody_pos,\n\u001b[0;32m    839\u001b[0m         \u001b[39m*\u001b[39m\u001b[39m*\u001b[39mresponse_kw\n\u001b[0;32m    840\u001b[0m     )\n\u001b[0;32m    842\u001b[0m \u001b[39m# Handle redirect?\u001b[39;00m\n\u001b[0;32m    843\u001b[0m redirect_location \u001b[39m=\u001b[39m redirect \u001b[39mand\u001b[39;00m response\u001b[39m.\u001b[39mget_redirect_location()\n",
      "File \u001b[1;32mc:\\Users\\timol\\mambaforge\\envs\\musa-550-fall-2023\\lib\\site-packages\\urllib3\\connectionpool.py:826\u001b[0m, in \u001b[0;36mHTTPConnectionPool.urlopen\u001b[1;34m(self, method, url, body, headers, retries, redirect, assert_same_host, timeout, pool_timeout, release_conn, chunked, body_pos, **response_kw)\u001b[0m\n\u001b[0;32m    821\u001b[0m \u001b[39mif\u001b[39;00m \u001b[39mnot\u001b[39;00m conn:\n\u001b[0;32m    822\u001b[0m     \u001b[39m# Try again\u001b[39;00m\n\u001b[0;32m    823\u001b[0m     log\u001b[39m.\u001b[39mwarning(\n\u001b[0;32m    824\u001b[0m         \u001b[39m\"\u001b[39m\u001b[39mRetrying (\u001b[39m\u001b[39m%r\u001b[39;00m\u001b[39m) after connection broken by \u001b[39m\u001b[39m'\u001b[39m\u001b[39m%r\u001b[39;00m\u001b[39m'\u001b[39m\u001b[39m: \u001b[39m\u001b[39m%s\u001b[39;00m\u001b[39m\"\u001b[39m, retries, err, url\n\u001b[0;32m    825\u001b[0m     )\n\u001b[1;32m--> 826\u001b[0m     \u001b[39mreturn\u001b[39;00m \u001b[39mself\u001b[39m\u001b[39m.\u001b[39murlopen(\n\u001b[0;32m    827\u001b[0m         method,\n\u001b[0;32m    828\u001b[0m         url,\n\u001b[0;32m    829\u001b[0m         body,\n\u001b[0;32m    830\u001b[0m         headers,\n\u001b[0;32m    831\u001b[0m         retries,\n\u001b[0;32m    832\u001b[0m         redirect,\n\u001b[0;32m    833\u001b[0m         assert_same_host,\n\u001b[0;32m    834\u001b[0m         timeout\u001b[39m=\u001b[39mtimeout,\n\u001b[0;32m    835\u001b[0m         pool_timeout\u001b[39m=\u001b[39mpool_timeout,\n\u001b[0;32m    836\u001b[0m         release_conn\u001b[39m=\u001b[39mrelease_conn,\n\u001b[0;32m    837\u001b[0m         chunked\u001b[39m=\u001b[39mchunked,\n\u001b[0;32m    838\u001b[0m         body_pos\u001b[39m=\u001b[39mbody_pos,\n\u001b[0;32m    839\u001b[0m         \u001b[39m*\u001b[39m\u001b[39m*\u001b[39mresponse_kw\n\u001b[0;32m    840\u001b[0m     )\n\u001b[0;32m    842\u001b[0m \u001b[39m# Handle redirect?\u001b[39;00m\n\u001b[0;32m    843\u001b[0m redirect_location \u001b[39m=\u001b[39m redirect \u001b[39mand\u001b[39;00m response\u001b[39m.\u001b[39mget_redirect_location()\n",
      "File \u001b[1;32mc:\\Users\\timol\\mambaforge\\envs\\musa-550-fall-2023\\lib\\site-packages\\urllib3\\connectionpool.py:798\u001b[0m, in \u001b[0;36mHTTPConnectionPool.urlopen\u001b[1;34m(self, method, url, body, headers, retries, redirect, assert_same_host, timeout, pool_timeout, release_conn, chunked, body_pos, **response_kw)\u001b[0m\n\u001b[0;32m    795\u001b[0m \u001b[39melif\u001b[39;00m \u001b[39misinstance\u001b[39m(e, (SocketError, HTTPException)):\n\u001b[0;32m    796\u001b[0m     e \u001b[39m=\u001b[39m ProtocolError(\u001b[39m\"\u001b[39m\u001b[39mConnection aborted.\u001b[39m\u001b[39m\"\u001b[39m, e)\n\u001b[1;32m--> 798\u001b[0m retries \u001b[39m=\u001b[39m retries\u001b[39m.\u001b[39;49mincrement(\n\u001b[0;32m    799\u001b[0m     method, url, error\u001b[39m=\u001b[39;49me, _pool\u001b[39m=\u001b[39;49m\u001b[39mself\u001b[39;49m, _stacktrace\u001b[39m=\u001b[39;49msys\u001b[39m.\u001b[39;49mexc_info()[\u001b[39m2\u001b[39;49m]\n\u001b[0;32m    800\u001b[0m )\n\u001b[0;32m    801\u001b[0m retries\u001b[39m.\u001b[39msleep()\n\u001b[0;32m    803\u001b[0m \u001b[39m# Keep track of the error for the retry warning.\u001b[39;00m\n",
      "File \u001b[1;32mc:\\Users\\timol\\mambaforge\\envs\\musa-550-fall-2023\\lib\\site-packages\\urllib3\\util\\retry.py:592\u001b[0m, in \u001b[0;36mRetry.increment\u001b[1;34m(self, method, url, response, error, _pool, _stacktrace)\u001b[0m\n\u001b[0;32m    581\u001b[0m new_retry \u001b[39m=\u001b[39m \u001b[39mself\u001b[39m\u001b[39m.\u001b[39mnew(\n\u001b[0;32m    582\u001b[0m     total\u001b[39m=\u001b[39mtotal,\n\u001b[0;32m    583\u001b[0m     connect\u001b[39m=\u001b[39mconnect,\n\u001b[1;32m   (...)\u001b[0m\n\u001b[0;32m    588\u001b[0m     history\u001b[39m=\u001b[39mhistory,\n\u001b[0;32m    589\u001b[0m )\n\u001b[0;32m    591\u001b[0m \u001b[39mif\u001b[39;00m new_retry\u001b[39m.\u001b[39mis_exhausted():\n\u001b[1;32m--> 592\u001b[0m     \u001b[39mraise\u001b[39;00m MaxRetryError(_pool, url, error \u001b[39mor\u001b[39;00m ResponseError(cause))\n\u001b[0;32m    594\u001b[0m log\u001b[39m.\u001b[39mdebug(\u001b[39m\"\u001b[39m\u001b[39mIncremented Retry for (url=\u001b[39m\u001b[39m'\u001b[39m\u001b[39m%s\u001b[39;00m\u001b[39m'\u001b[39m\u001b[39m): \u001b[39m\u001b[39m%r\u001b[39;00m\u001b[39m\"\u001b[39m, url, new_retry)\n\u001b[0;32m    596\u001b[0m \u001b[39mreturn\u001b[39;00m new_retry\n",
      "\u001b[1;31mMaxRetryError\u001b[0m: HTTPConnectionPool(host='localhost', port=64216): Max retries exceeded with url: /session/7b3acff2f56d1ca1391088bb25b7487a/url (Caused by NewConnectionError('<urllib3.connection.HTTPConnection object at 0x000001658E939390>: Failed to establish a new connection: [WinError 10061] No connection could be made because the target machine actively refused it'))"
     ]
    }
   ],
   "source": [
    "ovPage = textDriver.get(page_links[0])\n",
    "textSoup = BeautifulSoup(textDriver.page_source,\"html.parser\")\n",
    "title = textSoup.select(titleSelector)[0].text\n",
    "text = textSoup.select(descSelector)[0].text\n",
    "print(f\"title: {title}\\nlink{link}\")"
   ]
  }
 ],
 "metadata": {
  "kernelspec": {
   "display_name": "Python 3 (ipykernel)",
   "language": "python",
   "name": "python3"
  },
  "language_info": {
   "codemirror_mode": {
    "name": "ipython",
    "version": 3
   },
   "file_extension": ".py",
   "mimetype": "text/x-python",
   "name": "python",
   "nbconvert_exporter": "python",
   "pygments_lexer": "ipython3",
   "version": "3.10.12"
  }
 },
 "nbformat": 4,
 "nbformat_minor": 4
}
